{
 "cells": [
  {
   "cell_type": "code",
   "execution_count": 2,
   "metadata": {},
   "outputs": [],
   "source": [
    "from PIL import Image\n",
    "import pandas as pd\n",
    "import os\n",
    "import cv2"
   ]
  },
  {
   "cell_type": "code",
   "execution_count": 2,
   "metadata": {},
   "outputs": [],
   "source": [
    "df = pd.read_csv(\"hycom_with_NaN_values.csv\")\n",
    "\n",
    "szerokosc = df['lon_index'].max() + 1\n",
    "wysokosc = df['lat_index'].max() + 1\n",
    "kolor_tla = (253,255,212)\n",
    "kolor_wody = (0, 150, 255)\n",
    "df_size = len(df)\n",
    "\n",
    "obraz = Image.new(\"RGB\", (szerokosc, wysokosc), kolor_tla)\n",
    "obraz840x720 = Image.new(\"RGB\", (szerokosc*2, wysokosc*2), kolor_tla)\n",
    "\n",
    "for i in range(df_size):\n",
    "    x = df['lon_index'][i]\n",
    "    y = df['lat_index'][i]\n",
    "    if df['water_u'][i] != '--':\n",
    "        obraz.putpixel((x, y), kolor_wody)\n",
    "\n",
    "for i in range(df_size):\n",
    "    x = df['lon_index'][i]\n",
    "    y = df['lat_index'][i]\n",
    "    if df['water_u'][i] != '--':\n",
    "        obraz840x720.putpixel((x*2, y*2), kolor_wody)\n",
    "        obraz840x720.putpixel((x*2+1, y*2), kolor_wody)\n",
    "        obraz840x720.putpixel((x*2, y*2+1), kolor_wody)\n",
    "        obraz840x720.putpixel((x*2+1, y*2+1), kolor_wody)\n",
    "\n",
    "obraz = obraz.rotate(180).transpose(Image.FLIP_LEFT_RIGHT)\n",
    "path = os.path.join('..', '..', 'images', 'mapa.png')\n",
    "obraz.save(path)\n",
    "\n",
    "obraz840x720 = obraz840x720.rotate(180).transpose(Image.FLIP_LEFT_RIGHT)\n",
    "path = os.path.join('..', '..', 'images', 'mapa840x720.png')\n",
    "obraz840x720.save(path)\n",
    "\n",
    "obraz840x720.show()\n"
   ]
  },
  {
   "cell_type": "code",
   "execution_count": 3,
   "metadata": {},
   "outputs": [],
   "source": [
    "img = os.path.join('..', '..', 'images', 'mapa840x720.png')\n",
    "\n",
    "def binarize(img_path, threshold):\n",
    "    img = cv2.imread(img_path, cv2.IMREAD_GRAYSCALE)\n",
    "    binarized = img < threshold\n",
    "    binarized = (binarized * 255).astype('uint8')\n",
    "    cv2.imwrite(os.path.join(\"..\", '..', \"images\", \"binarized.png\"), binarized)\n",
    "    return\n",
    "\n",
    "binarize(img, 150)"
   ]
  }
 ],
 "metadata": {
  "kernelspec": {
   "display_name": "Python 3",
   "language": "python",
   "name": "python3"
  },
  "language_info": {
   "codemirror_mode": {
    "name": "ipython",
    "version": 3
   },
   "file_extension": ".py",
   "mimetype": "text/x-python",
   "name": "python",
   "nbconvert_exporter": "python",
   "pygments_lexer": "ipython3",
   "version": "3.11.5"
  }
 },
 "nbformat": 4,
 "nbformat_minor": 2
}
